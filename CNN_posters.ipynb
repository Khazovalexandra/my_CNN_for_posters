{
  "nbformat": 4,
  "nbformat_minor": 0,
  "metadata": {
    "colab": {
      "provenance": [],
      "toc_visible": true,
      "authorship_tag": "ABX9TyM3xP79/xWMpkzWXeTLLDwk",
      "include_colab_link": true
    },
    "kernelspec": {
      "name": "python3",
      "display_name": "Python 3"
    },
    "language_info": {
      "name": "python"
    }
  },
  "cells": [
    {
      "cell_type": "markdown",
      "metadata": {
        "id": "view-in-github",
        "colab_type": "text"
      },
      "source": [
        "<a href=\"https://colab.research.google.com/github/Khazovalexandra/my_CNN_for_posters/blob/main/CNN_posters.ipynb\" target=\"_parent\"><img src=\"https://colab.research.google.com/assets/colab-badge.svg\" alt=\"Open In Colab\"/></a>"
      ]
    },
    {
      "cell_type": "code",
      "execution_count": 32,
      "metadata": {
        "id": "U4XsAodsYAFO"
      },
      "outputs": [],
      "source": [
        "import pandas as pd\n",
        "import numpy as np\n",
        "import tensorflow as tf\n",
        "import pathlib\n",
        "from matplotlib import pyplot as plt\n",
        "import os\n",
        "from tensorflow import keras\n",
        "from keras.utils import plot_model\n",
        "import matplotlib.pylab as plt"
      ]
    },
    {
      "cell_type": "markdown",
      "source": [
        "Импортируем данные с Github"
      ],
      "metadata": {
        "id": "ZsNmXn-55Gc9"
      }
    },
    {
      "cell_type": "code",
      "source": [
        "url = \"https://github.com/Khazovalexandra/my_CNN_for_posters/blob/main/movies_dataset.csv\"\n",
        "\n",
        "data_dir = pathlib.Path(\"./movies_posters/\")\n",
        "test_dir = pathlib.Path(\"./test\")"
      ],
      "metadata": {
        "id": "i2t1SoDL5SU9"
      },
      "execution_count": 35,
      "outputs": []
    },
    {
      "cell_type": "markdown",
      "source": [
        "Определяем необходимые переменные"
      ],
      "metadata": {
        "id": "u_X3N7M_8KVq"
      }
    },
    {
      "cell_type": "code",
      "source": [
        "img_height = 281 // 5\n",
        "img_width = 190 // 5\n",
        "batch_size = 32\n",
        "epochs = 100"
      ],
      "metadata": {
        "id": "Lw9CndHY8Q6Z"
      },
      "execution_count": 27,
      "outputs": []
    },
    {
      "cell_type": "markdown",
      "source": [
        "Сохраняем в список названия жанров из папок"
      ],
      "metadata": {
        "id": "d6kQZZ5f8UIT"
      }
    },
    {
      "cell_type": "code",
      "source": [
        "genres_set = np.array([item.name for item in data_dir.glob('*') if item.name != \"LICENSE.txt\"])\n",
        "valg = len(genres_set)\n",
        "print(valg, genres_set)"
      ],
      "metadata": {
        "id": "6UUaiWph8gfD",
        "colab": {
          "base_uri": "https://localhost:8080/"
        },
        "outputId": "ea5a3f26-ef81-4edb-c092-4a6653b36f42"
      },
      "execution_count": 31,
      "outputs": [
        {
          "output_type": "stream",
          "name": "stdout",
          "text": [
            "0 []\n"
          ]
        }
      ]
    },
    {
      "cell_type": "markdown",
      "source": [
        "# Загрузка данных из папок, преобразование их в тренировочный и валидационный тензоры"
      ],
      "metadata": {
        "id": "NzMqmfA-8p-u"
      }
    },
    {
      "cell_type": "code",
      "source": [
        "train_ds = tf.keras.utils.image_dataset_from_directory(\n",
        "    data_dir,\n",
        "    validation_split=0.2,\n",
        "    subset=\"training\",\n",
        "    seed=123,\n",
        "    image_size=(img_height, img_width),\n",
        "    batch_size=batch_size,\n",
        "    label_mode='categorical')\n",
        "\n",
        "val_ds = tf.keras.utils.image_dataset_from_directory(\n",
        "    data_dir,\n",
        "    validation_split=0.2,\n",
        "    subset=\"validation\",\n",
        "    seed=123,\n",
        "    image_size=(img_height, img_width),\n",
        "    batch_size=batch_size,\n",
        "    label_mode='categorical')"
      ],
      "metadata": {
        "id": "h-sU6-6p9UhL",
        "colab": {
          "base_uri": "https://localhost:8080/",
          "height": 381
        },
        "outputId": "0f0dde97-24a0-4ac2-efca-7eafe0ee8053"
      },
      "execution_count": null,
      "outputs": [
        {
          "output_type": "error",
          "ename": "NotFoundError",
          "evalue": "ignored",
          "traceback": [
            "\u001b[0;31m---------------------------------------------------------------------------\u001b[0m",
            "\u001b[0;31mNotFoundError\u001b[0m                             Traceback (most recent call last)",
            "\u001b[0;32m<ipython-input-21-af4522b655d7>\u001b[0m in \u001b[0;36m<cell line: 1>\u001b[0;34m()\u001b[0m\n\u001b[0;32m----> 1\u001b[0;31m train_ds = tf.keras.utils.image_dataset_from_directory(\n\u001b[0m\u001b[1;32m      2\u001b[0m     \u001b[0mdata_dir\u001b[0m\u001b[0;34m,\u001b[0m\u001b[0;34m\u001b[0m\u001b[0;34m\u001b[0m\u001b[0m\n\u001b[1;32m      3\u001b[0m     \u001b[0mvalidation_split\u001b[0m\u001b[0;34m=\u001b[0m\u001b[0;36m0.2\u001b[0m\u001b[0;34m,\u001b[0m\u001b[0;34m\u001b[0m\u001b[0;34m\u001b[0m\u001b[0m\n\u001b[1;32m      4\u001b[0m     \u001b[0msubset\u001b[0m\u001b[0;34m=\u001b[0m\u001b[0;34m\"training\"\u001b[0m\u001b[0;34m,\u001b[0m\u001b[0;34m\u001b[0m\u001b[0;34m\u001b[0m\u001b[0m\n\u001b[1;32m      5\u001b[0m     \u001b[0mseed\u001b[0m\u001b[0;34m=\u001b[0m\u001b[0;36m123\u001b[0m\u001b[0;34m,\u001b[0m\u001b[0;34m\u001b[0m\u001b[0;34m\u001b[0m\u001b[0m\n",
            "\u001b[0;32m/usr/local/lib/python3.10/dist-packages/keras/utils/image_dataset.py\u001b[0m in \u001b[0;36mimage_dataset_from_directory\u001b[0;34m(directory, labels, label_mode, class_names, color_mode, batch_size, image_size, shuffle, seed, validation_split, subset, interpolation, follow_links, crop_to_aspect_ratio, **kwargs)\u001b[0m\n\u001b[1;32m    208\u001b[0m     \u001b[0;32mif\u001b[0m \u001b[0mseed\u001b[0m \u001b[0;32mis\u001b[0m \u001b[0;32mNone\u001b[0m\u001b[0;34m:\u001b[0m\u001b[0;34m\u001b[0m\u001b[0;34m\u001b[0m\u001b[0m\n\u001b[1;32m    209\u001b[0m         \u001b[0mseed\u001b[0m \u001b[0;34m=\u001b[0m \u001b[0mnp\u001b[0m\u001b[0;34m.\u001b[0m\u001b[0mrandom\u001b[0m\u001b[0;34m.\u001b[0m\u001b[0mrandint\u001b[0m\u001b[0;34m(\u001b[0m\u001b[0;36m1e6\u001b[0m\u001b[0;34m)\u001b[0m\u001b[0;34m\u001b[0m\u001b[0;34m\u001b[0m\u001b[0m\n\u001b[0;32m--> 210\u001b[0;31m     image_paths, labels, class_names = dataset_utils.index_directory(\n\u001b[0m\u001b[1;32m    211\u001b[0m         \u001b[0mdirectory\u001b[0m\u001b[0;34m,\u001b[0m\u001b[0;34m\u001b[0m\u001b[0;34m\u001b[0m\u001b[0m\n\u001b[1;32m    212\u001b[0m         \u001b[0mlabels\u001b[0m\u001b[0;34m,\u001b[0m\u001b[0;34m\u001b[0m\u001b[0;34m\u001b[0m\u001b[0m\n",
            "\u001b[0;32m/usr/local/lib/python3.10/dist-packages/keras/utils/dataset_utils.py\u001b[0m in \u001b[0;36mindex_directory\u001b[0;34m(directory, labels, formats, class_names, shuffle, seed, follow_links)\u001b[0m\n\u001b[1;32m    540\u001b[0m     \u001b[0;32melse\u001b[0m\u001b[0;34m:\u001b[0m\u001b[0;34m\u001b[0m\u001b[0;34m\u001b[0m\u001b[0m\n\u001b[1;32m    541\u001b[0m         \u001b[0msubdirs\u001b[0m \u001b[0;34m=\u001b[0m \u001b[0;34m[\u001b[0m\u001b[0;34m]\u001b[0m\u001b[0;34m\u001b[0m\u001b[0;34m\u001b[0m\u001b[0m\n\u001b[0;32m--> 542\u001b[0;31m         \u001b[0;32mfor\u001b[0m \u001b[0msubdir\u001b[0m \u001b[0;32min\u001b[0m \u001b[0msorted\u001b[0m\u001b[0;34m(\u001b[0m\u001b[0mtf\u001b[0m\u001b[0;34m.\u001b[0m\u001b[0mio\u001b[0m\u001b[0;34m.\u001b[0m\u001b[0mgfile\u001b[0m\u001b[0;34m.\u001b[0m\u001b[0mlistdir\u001b[0m\u001b[0;34m(\u001b[0m\u001b[0mdirectory\u001b[0m\u001b[0;34m)\u001b[0m\u001b[0;34m)\u001b[0m\u001b[0;34m:\u001b[0m\u001b[0;34m\u001b[0m\u001b[0;34m\u001b[0m\u001b[0m\n\u001b[0m\u001b[1;32m    543\u001b[0m             \u001b[0;32mif\u001b[0m \u001b[0mtf\u001b[0m\u001b[0;34m.\u001b[0m\u001b[0mio\u001b[0m\u001b[0;34m.\u001b[0m\u001b[0mgfile\u001b[0m\u001b[0;34m.\u001b[0m\u001b[0misdir\u001b[0m\u001b[0;34m(\u001b[0m\u001b[0mtf\u001b[0m\u001b[0;34m.\u001b[0m\u001b[0mio\u001b[0m\u001b[0;34m.\u001b[0m\u001b[0mgfile\u001b[0m\u001b[0;34m.\u001b[0m\u001b[0mjoin\u001b[0m\u001b[0;34m(\u001b[0m\u001b[0mdirectory\u001b[0m\u001b[0;34m,\u001b[0m \u001b[0msubdir\u001b[0m\u001b[0;34m)\u001b[0m\u001b[0;34m)\u001b[0m\u001b[0;34m:\u001b[0m\u001b[0;34m\u001b[0m\u001b[0;34m\u001b[0m\u001b[0m\n\u001b[1;32m    544\u001b[0m                 \u001b[0;32mif\u001b[0m \u001b[0msubdir\u001b[0m\u001b[0;34m.\u001b[0m\u001b[0mendswith\u001b[0m\u001b[0;34m(\u001b[0m\u001b[0;34m\"/\"\u001b[0m\u001b[0;34m)\u001b[0m\u001b[0;34m:\u001b[0m\u001b[0;34m\u001b[0m\u001b[0;34m\u001b[0m\u001b[0m\n",
            "\u001b[0;32m/usr/local/lib/python3.10/dist-packages/tensorflow/python/lib/io/file_io.py\u001b[0m in \u001b[0;36mlist_directory_v2\u001b[0;34m(path)\u001b[0m\n\u001b[1;32m    766\u001b[0m   \"\"\"\n\u001b[1;32m    767\u001b[0m   \u001b[0;32mif\u001b[0m \u001b[0;32mnot\u001b[0m \u001b[0mis_directory\u001b[0m\u001b[0;34m(\u001b[0m\u001b[0mpath\u001b[0m\u001b[0;34m)\u001b[0m\u001b[0;34m:\u001b[0m\u001b[0;34m\u001b[0m\u001b[0;34m\u001b[0m\u001b[0m\n\u001b[0;32m--> 768\u001b[0;31m     raise errors.NotFoundError(\n\u001b[0m\u001b[1;32m    769\u001b[0m         \u001b[0mnode_def\u001b[0m\u001b[0;34m=\u001b[0m\u001b[0;32mNone\u001b[0m\u001b[0;34m,\u001b[0m\u001b[0;34m\u001b[0m\u001b[0;34m\u001b[0m\u001b[0m\n\u001b[1;32m    770\u001b[0m         \u001b[0mop\u001b[0m\u001b[0;34m=\u001b[0m\u001b[0;32mNone\u001b[0m\u001b[0;34m,\u001b[0m\u001b[0;34m\u001b[0m\u001b[0;34m\u001b[0m\u001b[0m\n",
            "\u001b[0;31mNotFoundError\u001b[0m: Could not find directory https:/github.com/Khazovalexandra/my_CNN_for_posters/tree/main/movies_posters"
          ]
        }
      ]
    },
    {
      "cell_type": "markdown",
      "source": [
        "Улучшение эффективности за счет мспользования графического процессора"
      ],
      "metadata": {
        "id": "3fIFLNhf9cXB"
      }
    },
    {
      "cell_type": "code",
      "source": [
        "train_ds = train_ds.prefetch(tf.data.AUTOTUNE)\n",
        "val_ds = val_ds.prefetch(tf.data.AUTOTUNE)"
      ],
      "metadata": {
        "id": "l7ydx-_E90Wu"
      },
      "execution_count": null,
      "outputs": []
    },
    {
      "cell_type": "markdown",
      "source": [
        "# Создание модели сверточной нейросети"
      ],
      "metadata": {
        "id": "LvWAKj4j94k9"
      }
    },
    {
      "cell_type": "markdown",
      "source": [
        "Модель имеет три сверточных слоя"
      ],
      "metadata": {
        "id": "9BExW_ae-DFz"
      }
    },
    {
      "cell_type": "code",
      "source": [
        "model = tf.keras.models.Sequential([\n",
        "    tf.keras.layers.Rescaling(1./255, input_shape=(img_height, img_width, 3)),\n",
        "    tf.keras.layers.Conv2D(128, kernel_size=(3,3), padding='same', activation='relu', strides=(2,2)),\n",
        "    tf.keras.layers.MaxPool2D(pool_size=(2,2), strides=None,\n",
        "                              padding='valid',\n",
        "                              data_format='channels_last'),\n",
        "    tf.keras.layers.BatchNormalization(),\n",
        "    tf.keras.layers.Conv2D(64, kernel_size=(3,3), padding='same', activation='relu', strides=(2,2)),\n",
        "    tf.keras.layers.MaxPool2D(pool_size=(2,2), strides=None,\n",
        "                              padding='valid',\n",
        "                              data_format='channels_last'),\n",
        "    tf.keras.layers.BatchNormalization(),\n",
        "    tf.keras.layers.Conv2D(32, kernel_size=(3,3), padding='same', activation='relu', strides=(1,1)),\n",
        "    tf.keras.layers.MaxPool2D(pool_size=(2,2), strides=None,\n",
        "                              padding='valid',\n",
        "                              data_format='channels_last'),\n",
        "    tf.keras.layers.BatchNormalization(),\n",
        "    tf.keras.layers.Flatten(),\n",
        "    tf.keras.layers.Dropout(0.5),\n",
        "    tf.keras.layers.Dense(64, activation='relu'),\n",
        "    tf.keras.layers.Dense(32, activation='softmax'),\n",
        "    tf.keras.layers.Dense(len(genres_set))\n",
        "])"
      ],
      "metadata": {
        "id": "aL5pLicf-Z2f"
      },
      "execution_count": null,
      "outputs": []
    },
    {
      "cell_type": "markdown",
      "source": [
        "Задаем функцию оптимизации, функцию потерь и метрику нашей нейросети"
      ],
      "metadata": {
        "id": "VlFyVBwR-hJ-"
      }
    },
    {
      "cell_type": "code",
      "source": [
        "model.compile(optimizer='adam',\n",
        "              loss=tf.keras.losses.CategoricalCrossentropy(from_logits=True),\n",
        "              metrics=['accuracy'], jit_compile=True)"
      ],
      "metadata": {
        "id": "IdFesdAT-1VN"
      },
      "execution_count": null,
      "outputs": []
    },
    {
      "cell_type": "markdown",
      "source": [
        "Вывод и сохранение структуры созданной модели"
      ],
      "metadata": {
        "id": "AN7OqjE2-48S"
      }
    },
    {
      "cell_type": "code",
      "source": [
        "model.summary()\n",
        "keras.utils.plot_model(model, to_file=url+'my_first_model.png', show_shapes=True)"
      ],
      "metadata": {
        "id": "IngBlOUB_F5A"
      },
      "execution_count": null,
      "outputs": []
    },
    {
      "cell_type": "markdown",
      "source": [
        "# Создание обратных вызовов(callbacks)"
      ],
      "metadata": {
        "id": "FAem7Xq7_K5z"
      }
    },
    {
      "cell_type": "markdown",
      "source": [
        "Callback, сохраняющий веса модели в отдельный файл, за счет чего можно продолжать обучение"
      ],
      "metadata": {
        "id": "oJqFUfUp_miO"
      }
    },
    {
      "cell_type": "code",
      "source": [
        "checkpoint_path = \"./training_1/cp.ckpt\"\n",
        "checkpoint_dir = os.path.dirname(checkpoint_path)\n",
        "\n",
        "cp_callback = tf.keras.callbacks.ModelCheckpoint(filepath=checkpoint_path,\n",
        "                                                 save_best_only=True,\n",
        "                                                 save_weights_only=True,\n",
        "                                                 verbose=1)"
      ],
      "metadata": {
        "id": "zC92zV7-AIcm"
      },
      "execution_count": null,
      "outputs": []
    },
    {
      "cell_type": "markdown",
      "source": [
        "Callback с помощью которого можно менять скорость обучения модели самостоятельно"
      ],
      "metadata": {
        "id": "PGuOTtXlAV4t"
      }
    },
    {
      "cell_type": "code",
      "source": [
        "def scheduler(epoch, lr):\n",
        "  if epoch < 10:\n",
        "    return lr\n",
        "  else:\n",
        "    return lr * tf.math.exp(-0.1)\n",
        "\n",
        "callback = tf.keras.callbacks.LearningRateScheduler(scheduler)"
      ],
      "metadata": {
        "id": "9P9TnMDxAqux"
      },
      "execution_count": null,
      "outputs": []
    },
    {
      "cell_type": "markdown",
      "source": [
        "# Обучение модели"
      ],
      "metadata": {
        "id": "9wRVrpRLAuFt"
      }
    },
    {
      "cell_type": "markdown",
      "source": [
        "Возвращает последние веса из файла .ckpt"
      ],
      "metadata": {
        "id": "_rjy_66yBjwg"
      }
    },
    {
      "cell_type": "code",
      "source": [
        "latest = tf.train.latest_checkpoint(checkpoint_dir)\n",
        "model.load_weights(latest)"
      ],
      "metadata": {
        "id": "C5KRI27MBrof"
      },
      "execution_count": null,
      "outputs": []
    },
    {
      "cell_type": "markdown",
      "source": [
        "Прогоняет их по модели и выводит результат обучаемости"
      ],
      "metadata": {
        "id": "AVU7MTg-Byh4"
      }
    },
    {
      "cell_type": "code",
      "source": [
        "loss, acc = model.evaluate(val_ds, verbose=2)\n",
        "print(\"Untrained model, accuracy: {:5.2f}%\".format(100 * acc))"
      ],
      "metadata": {
        "id": "idZRNuTyB6sY"
      },
      "execution_count": null,
      "outputs": []
    },
    {
      "cell_type": "markdown",
      "source": [
        "Обучение модели"
      ],
      "metadata": {
        "id": "7F7846fmCAyl"
      }
    },
    {
      "cell_type": "code",
      "source": [
        "history = model.fit(\n",
        "  train_ds,\n",
        "  validation_data=val_ds,\n",
        "  epochs=epochs,\n",
        "  shuffle=True,\n",
        "  callbacks=[callback, cp_callback]\n",
        ")\n",
        "\n",
        "loss, acc = model.evaluate(val_ds, verbose=2)\n",
        "print(\"Untrained model, accuracy: {:5.2f}%\".format(100 * acc))"
      ],
      "metadata": {
        "id": "qkK0NA_NCEOb"
      },
      "execution_count": null,
      "outputs": []
    },
    {
      "cell_type": "markdown",
      "source": [
        "Вывод графиков функций точности и потерь на протяжении всего обучения модели"
      ],
      "metadata": {
        "id": "pVz3Ha7KCKAL"
      }
    },
    {
      "cell_type": "code",
      "source": [
        "acc = history.history['accuracy']\n",
        "val_acc = history.history['val_accuracy']\n",
        "\n",
        "loss = history.history['loss']\n",
        "val_loss = history.history['val_loss']\n",
        "\n",
        "epochs_range = range(epochs)\n",
        "\n",
        "plt.figure(figsize=(8, 8))\n",
        "plt.subplot(1, 2, 1)\n",
        "plt.plot(epochs_range, acc, label='Точность на обучающих данных')\n",
        "plt.plot(epochs_range, val_acc, label='Точность на валидационных данных')\n",
        "plt.legend(loc='lower right')\n",
        "plt.title('Точность')\n",
        "\n",
        "plt.subplot(1, 2, 2)\n",
        "plt.plot(epochs_range, loss, label='Потери на обучении')\n",
        "plt.plot(epochs_range, val_loss, label='Потери на валидации')\n",
        "plt.legend(loc='upper right')\n",
        "plt.title('Потери')\n",
        "plt.savefig(url + 'my_network.png')\n",
        "plt.show()"
      ],
      "metadata": {
        "id": "6X22BnRHCsKv"
      },
      "execution_count": null,
      "outputs": []
    },
    {
      "cell_type": "markdown",
      "source": [
        "# Предсказания модели\n",
        "выполняются по данным из папки test"
      ],
      "metadata": {
        "id": "5r9M9cHYC3Ej"
      }
    },
    {
      "cell_type": "code",
      "source": [
        "for image, lab in val_ds.take(1):\n",
        "      pred = model.predict(image)\n",
        "      print(pred)\n",
        "\n",
        "for item_path in os.listdir(str(test_dir)):\n",
        "    item_path = os.path.join(str(test_dir / item_path))\n",
        "    img = tf.io.read_file(item_path)\n",
        "    img = tf.image.decode_jpeg(img)\n",
        "    reshaped_img = tf.image.resize(img, (img_height, img_width))\n",
        "    reshaped_img = tf.reshape(reshaped_img, (img_height, img_width, 3))\n",
        "    img_arr = keras.utils.img_to_array(reshaped_img)\n",
        "    img_arr = tf.expand_dims(img_arr, 0)\n",
        "\n",
        "    predictions = model.predict(img_arr)\n",
        "    score = tf.nn.softmax(predictions[0])\n",
        "    item_name = item_path.split(os.path.sep)[-1]\n",
        "    print(\"Score for {}: {}, {}%\".format(\n",
        "        item_name,\n",
        "        genres_set[np.argmax(score)],\n",
        "        np.max(score) * 100)\n",
        "    )"
      ],
      "metadata": {
        "id": "6nLclau9DCH5"
      },
      "execution_count": null,
      "outputs": []
    }
  ]
}